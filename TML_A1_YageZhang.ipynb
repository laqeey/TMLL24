{
  "nbformat": 4,
  "nbformat_minor": 0,
  "metadata": {
    "colab": {
      "provenance": []
    },
    "kernelspec": {
      "name": "python3",
      "display_name": "Python 3"
    },
    "language_info": {
      "name": "python"
    }
  },
  "cells": [
    {
      "cell_type": "code",
      "source": [],
      "metadata": {
        "colab": {
          "base_uri": "https://localhost:8080/"
        },
        "id": "OSJY0TRsdMoD",
        "outputId": "8c6e49eb-d456-42da-b178-dc49cf27a176"
      },
      "execution_count": null,
      "outputs": [
        {
          "output_type": "stream",
          "name": "stdout",
          "text": [
            "Requirement already satisfied: gdown in /usr/local/lib/python3.10/dist-packages (5.1.0)\n",
            "Requirement already satisfied: beautifulsoup4 in /usr/local/lib/python3.10/dist-packages (from gdown) (4.12.3)\n",
            "Requirement already satisfied: filelock in /usr/local/lib/python3.10/dist-packages (from gdown) (3.14.0)\n",
            "Requirement already satisfied: requests[socks] in /usr/local/lib/python3.10/dist-packages (from gdown) (2.31.0)\n",
            "Requirement already satisfied: tqdm in /usr/local/lib/python3.10/dist-packages (from gdown) (4.66.2)\n",
            "Requirement already satisfied: soupsieve>1.2 in /usr/local/lib/python3.10/dist-packages (from beautifulsoup4->gdown) (2.5)\n",
            "Requirement already satisfied: charset-normalizer<4,>=2 in /usr/local/lib/python3.10/dist-packages (from requests[socks]->gdown) (3.3.2)\n",
            "Requirement already satisfied: idna<4,>=2.5 in /usr/local/lib/python3.10/dist-packages (from requests[socks]->gdown) (3.7)\n",
            "Requirement already satisfied: urllib3<3,>=1.21.1 in /usr/local/lib/python3.10/dist-packages (from requests[socks]->gdown) (2.0.7)\n",
            "Requirement already satisfied: certifi>=2017.4.17 in /usr/local/lib/python3.10/dist-packages (from requests[socks]->gdown) (2024.2.2)\n",
            "Requirement already satisfied: PySocks!=1.5.7,>=1.5.6 in /usr/local/lib/python3.10/dist-packages (from requests[socks]->gdown) (1.7.1)\n"
          ]
        }
      ]
    },
    {
      "cell_type": "code",
      "source": [
        "import torch\n",
        "from torch.utils.data import Dataset\n",
        "from typing import Tuple\n",
        "import numpy as np\n",
        "import requests\n",
        "import pandas as pd\n",
        "\n",
        "\n",
        "import torch.nn as nn\n",
        "from torch.utils.data import DataLoader\n",
        "import numpy as np\n",
        "\n",
        "import matplotlib.pyplot as plt\n",
        "import matplotlib\n",
        "\n",
        "%matplotlib inline\n",
        "%config InlineBackend.figure_format = 'svg'"
      ],
      "metadata": {
        "id": "-6QIewKNOQmg"
      },
      "execution_count": null,
      "outputs": []
    },
    {
      "cell_type": "code",
      "source": [
        "import gdown\n",
        "\n",
        "pub_id = '1OLZsYJteuUpnQnSoZTHC617zmSRPsSK0'\n",
        "priv_id = '1wGNkKdKRn2ZpQ-GtP3l8UCpNHUWBgHyN'\n",
        "model_id = '1-rFEKopl4PZ4e3FR_dKcLbO_Y4pXOgLo'\n",
        "\n",
        "\n",
        "gdown.download(f'https://drive.google.com/uc?id={pub_id}', 'pub.pt', quiet=False)\n",
        "gdown.download(f'https://drive.google.com/uc?id={priv_id}', 'priv.pt', quiet=False)\n",
        "gdown.download(f'https://drive.google.com/uc?id={model_id}', 'model.pt', quiet=False)"
      ],
      "metadata": {
        "colab": {
          "base_uri": "https://localhost:8080/",
          "height": 296
        },
        "id": "VSHGFwYnc4cK",
        "outputId": "65121dba-05e0-433f-8751-d5ac059850d5"
      },
      "execution_count": null,
      "outputs": [
        {
          "output_type": "stream",
          "name": "stderr",
          "text": [
            "Downloading...\n",
            "From (original): https://drive.google.com/uc?id=1OLZsYJteuUpnQnSoZTHC617zmSRPsSK0\n",
            "From (redirected): https://drive.google.com/uc?id=1OLZsYJteuUpnQnSoZTHC617zmSRPsSK0&confirm=t&uuid=5d91616f-ee8f-4635-a124-d16e2743fd76\n",
            "To: /content/pub.pt\n",
            "100%|██████████| 250M/250M [00:03<00:00, 63.3MB/s]\n",
            "Downloading...\n",
            "From (original): https://drive.google.com/uc?id=1wGNkKdKRn2ZpQ-GtP3l8UCpNHUWBgHyN\n",
            "From (redirected): https://drive.google.com/uc?id=1wGNkKdKRn2ZpQ-GtP3l8UCpNHUWBgHyN&confirm=t&uuid=3ff11de9-f072-4052-9d07-b8a881cb38a9\n",
            "To: /content/priv.pt\n",
            "100%|██████████| 251M/251M [00:04<00:00, 54.0MB/s]\n",
            "Downloading...\n",
            "From (original): https://drive.google.com/uc?id=1-rFEKopl4PZ4e3FR_dKcLbO_Y4pXOgLo\n",
            "From (redirected): https://drive.google.com/uc?id=1-rFEKopl4PZ4e3FR_dKcLbO_Y4pXOgLo&confirm=t&uuid=4ceaf0f0-cc7c-40c0-bf8e-f1fd594b9128\n",
            "To: /content/model.pt\n",
            "100%|██████████| 44.9M/44.9M [00:02<00:00, 20.5MB/s]\n"
          ]
        },
        {
          "output_type": "execute_result",
          "data": {
            "text/plain": [
              "'model.pt'"
            ],
            "application/vnd.google.colaboratory.intrinsic+json": {
              "type": "string"
            }
          },
          "metadata": {},
          "execution_count": 1
        }
      ]
    },
    {
      "cell_type": "code",
      "source": [
        "\n",
        "#### LOADING THE MODEL\n",
        "\n",
        "from torchvision.models import resnet18\n",
        "\n",
        "model = resnet18(pretrained=False)\n",
        "model.fc = torch.nn.Linear(512, 44)\n",
        "\n",
        "ckpt = torch.load(\"/content/model.pt\", map_location=\"cpu\")\n",
        "\n",
        "model.load_state_dict(ckpt)"
      ],
      "metadata": {
        "id": "jBbrydjIOTO4",
        "colab": {
          "base_uri": "https://localhost:8080/"
        },
        "outputId": "2a4d2051-56a7-427b-8d28-ea934e29b741"
      },
      "execution_count": null,
      "outputs": [
        {
          "output_type": "stream",
          "name": "stderr",
          "text": [
            "/usr/local/lib/python3.10/dist-packages/torchvision/models/_utils.py:208: UserWarning: The parameter 'pretrained' is deprecated since 0.13 and may be removed in the future, please use 'weights' instead.\n",
            "  warnings.warn(\n",
            "/usr/local/lib/python3.10/dist-packages/torchvision/models/_utils.py:223: UserWarning: Arguments other than a weight enum or `None` for 'weights' are deprecated since 0.13 and may be removed in the future. The current behavior is equivalent to passing `weights=None`.\n",
            "  warnings.warn(msg)\n"
          ]
        },
        {
          "output_type": "execute_result",
          "data": {
            "text/plain": [
              "<All keys matched successfully>"
            ]
          },
          "metadata": {},
          "execution_count": 4
        }
      ]
    },
    {
      "cell_type": "code",
      "execution_count": null,
      "metadata": {
        "id": "8ORRbIfcOKo2"
      },
      "outputs": [],
      "source": [
        "\n",
        "#### DATASETS\n",
        "\n",
        "class TaskDataset(Dataset):\n",
        "    def __init__(self, transform=None):\n",
        "\n",
        "        self.ids = []\n",
        "        self.imgs = []\n",
        "        self.labels = []\n",
        "\n",
        "        self.transform = transform\n",
        "\n",
        "    def __getitem__(self, index) -> Tuple[int, torch.Tensor, int]:\n",
        "        id_ = self.ids[index]\n",
        "        img = self.imgs[index]\n",
        "        if not self.transform is None:\n",
        "            img = self.transform(img)\n",
        "        label = self.labels[index]\n",
        "        return id_, img, label\n",
        "\n",
        "    def __len__(self):\n",
        "        return len(self.ids)\n",
        "\n",
        "\n",
        "class MembershipDataset(TaskDataset):\n",
        "    def __init__(self, transform=None):\n",
        "        super().__init__(transform)\n",
        "        self.membership = []\n",
        "\n",
        "    def __getitem__(self, index) -> Tuple[int, torch.Tensor, int, int]:\n",
        "        id_, img, label = super().__getitem__(index)\n",
        "        return id_, img, label, self.membership[index]\n",
        "\n",
        "\n",
        "privData: MembershipDataset = torch.load(\"/content/priv.pt\")\n",
        "pubData: MembershipDataset = torch.load(\"/content/pub.pt\")"
      ]
    },
    {
      "cell_type": "code",
      "source": [
        "# Define custom collate_fn to ignore the membership feature\n",
        "def custom_collate(batch):\n",
        "    batch = [(item[0], item[1], item[2]) for item in batch]\n",
        "    return torch.utils.data.dataloader.default_collate(batch)"
      ],
      "metadata": {
        "id": "0tDso7Molvbc"
      },
      "execution_count": null,
      "outputs": []
    },
    {
      "cell_type": "code",
      "source": [
        "import torch\n",
        "from torchvision import transforms\n",
        "\n",
        "class NormalizedDataset(torch.utils.data.Dataset):\n",
        "    def __init__(self, dataset):\n",
        "        self.dataset = dataset\n",
        "        self.normalize = transforms.Normalize(mean=[0.298, 0.2962, 0.2987], std=[0.2886, 0.2875, 0.2889])  # Adjust mean and std as needed\n",
        "\n",
        "        self.ids = dataset.ids\n",
        "        self.imgs = []\n",
        "        self.labels = dataset.labels\n",
        "        self.membership = dataset.membership\n",
        "\n",
        "        self.normalize_images()\n",
        "\n",
        "    def normalize_images(self):\n",
        "\n",
        "        for id_, img, label, membership in self.dataset:\n",
        "            img_normalized = self.normalize(img)\n",
        "            self.imgs.append(img_normalized)\n",
        "\n",
        "    def __len__(self):\n",
        "        return len(self.dataset)\n",
        "\n",
        "    def __getitem__(self, idx):\n",
        "        id_, img, label, membership = self.dataset[idx]\n",
        "        img = self.imgs[idx]\n",
        "        return id_, img, label, membership\n",
        "\n",
        "\n",
        "privData = NormalizedDataset(privData)\n",
        "pubData = NormalizedDataset(pubData)"
      ],
      "metadata": {
        "id": "hyqyrRSppoXm"
      },
      "execution_count": null,
      "outputs": []
    },
    {
      "cell_type": "code",
      "source": [
        "member_images = []\n",
        "non_member_images = []\n",
        "\n",
        "for id_, image, label, membership in pubData:\n",
        "    if membership == 1:\n",
        "        member_images.append((id_, image, label, 1))\n",
        "    elif membership == 0:\n",
        "        non_member_images.append((id_, image, label, 0))\n",
        "\n",
        "memberData = MembershipDataset()\n",
        "memberData.ids, memberData.imgs, memberData.labels, memberData.membership = zip(*member_images)\n",
        "\n",
        "nonMemberData = MembershipDataset()\n",
        "nonMemberData.ids, nonMemberData.imgs, nonMemberData.labels, nonMemberData.membership = zip(*non_member_images)"
      ],
      "metadata": {
        "id": "_BddTrs-tI2-"
      },
      "execution_count": null,
      "outputs": []
    },
    {
      "cell_type": "code",
      "source": [
        "device = torch.device(\"cuda\" if torch.cuda.is_available() else \"cpu\")"
      ],
      "metadata": {
        "id": "-Zcj_FREYi-Q"
      },
      "execution_count": null,
      "outputs": []
    },
    {
      "cell_type": "code",
      "source": [
        "def evaluateModel(dataset, model, isPriv):\n",
        "\n",
        "\n",
        "    model.eval()\n",
        "    model.to(device)\n",
        "\n",
        "    correct = 0\n",
        "    total = 0\n",
        "\n",
        "    if isPriv:\n",
        "      data_loader = torch.utils.data.DataLoader(dataset, batch_size=32, shuffle=False, collate_fn=custom_collate)\n",
        "\n",
        "\n",
        "      with torch.no_grad():\n",
        "        for _, images, labels in data_loader:\n",
        "\n",
        "            images, labels = images.to(device), labels.to(device)\n",
        "\n",
        "            outputs = model(images)\n",
        "\n",
        "            _, predicted = torch.max(outputs.data, 1)\n",
        "\n",
        "            total += labels.size(0)\n",
        "\n",
        "            correct += (predicted == labels).sum().item()\n",
        "    else:\n",
        "      data_loader = torch.utils.data.DataLoader(dataset, batch_size=32, shuffle=False)\n",
        "\n",
        "      with torch.no_grad():\n",
        "        for _, images, labels,_ in data_loader:\n",
        "\n",
        "            images, labels = images.to(device), labels.to(device)\n",
        "\n",
        "            outputs = model(images)\n",
        "\n",
        "            _, predicted = torch.max(outputs.data, 1)\n",
        "\n",
        "            total += labels.size(0)\n",
        "\n",
        "            correct += (predicted == labels).sum().item()\n",
        "\n",
        "    accuracy = correct / total\n",
        "\n",
        "    print(f'Accuracy on privData: {accuracy:.2%}')\n",
        "\n",
        "# evaluateModel(privData, model, True)\n",
        "# evaluateModel(memberData, member_shadow_model, False)"
      ],
      "metadata": {
        "id": "1ZiLwWFWiexy"
      },
      "execution_count": null,
      "outputs": []
    },
    {
      "cell_type": "code",
      "source": [
        "# evaluateModel(nonMemberData, model, False)"
      ],
      "metadata": {
        "colab": {
          "base_uri": "https://localhost:8080/"
        },
        "id": "GBResMEzTxnD",
        "outputId": "674a296d-cb29-42fe-f2e9-d5f21b9a6a29"
      },
      "execution_count": null,
      "outputs": [
        {
          "output_type": "stream",
          "name": "stdout",
          "text": [
            "Accuracy on privData: 69.29%\n"
          ]
        }
      ]
    },
    {
      "cell_type": "code",
      "source": [
        "def initialize_shadow_model(num_classes=44):\n",
        "    shadow_model = resnet18(pretrained=False)\n",
        "    shadow_model.fc = nn.Linear(512, num_classes)\n",
        "    return shadow_model.to(device)"
      ],
      "metadata": {
        "id": "AiuHXgE5aYyr"
      },
      "execution_count": null,
      "outputs": []
    },
    {
      "cell_type": "code",
      "source": [
        "def train_model(model, data_loader, epochs=15):\n",
        "    optimizer = torch.optim.Adam(model.parameters(), lr=0.001)\n",
        "    criterion = torch.nn.CrossEntropyLoss()\n",
        "    model.train()\n",
        "    for epoch in range(epochs):\n",
        "        for _, images, labels, _ in data_loader:\n",
        "            images, labels = images.to(device), labels.to(device)\n",
        "            optimizer.zero_grad()\n",
        "            outputs = model(images)\n",
        "            loss = criterion(outputs, labels)\n",
        "            loss.backward()\n",
        "            optimizer.step()\n",
        "        print(f\"Epoch {epoch+1}, Loss: {loss.item()}\")\n",
        "        evaluateModel(memberData, member_shadow_model, False)"
      ],
      "metadata": {
        "id": "cGKG1rtRbUmN"
      },
      "execution_count": null,
      "outputs": []
    },
    {
      "cell_type": "code",
      "source": [
        "member_shadow_model = initialize_shadow_model()\n",
        "\n",
        "member_loader = DataLoader(pubData, batch_size=32, shuffle=True)\n",
        "\n",
        "train_model(member_shadow_model, member_loader)"
      ],
      "metadata": {
        "colab": {
          "base_uri": "https://localhost:8080/"
        },
        "id": "bXVrj7v4aeSw",
        "outputId": "2292f614-cdfd-4cfe-f9da-8b194dc20378"
      },
      "execution_count": null,
      "outputs": [
        {
          "output_type": "stream",
          "name": "stderr",
          "text": [
            "/usr/local/lib/python3.10/dist-packages/torchvision/models/_utils.py:208: UserWarning: The parameter 'pretrained' is deprecated since 0.13 and may be removed in the future, please use 'weights' instead.\n",
            "  warnings.warn(\n",
            "/usr/local/lib/python3.10/dist-packages/torchvision/models/_utils.py:223: UserWarning: Arguments other than a weight enum or `None` for 'weights' are deprecated since 0.13 and may be removed in the future. The current behavior is equivalent to passing `weights=None`.\n",
            "  warnings.warn(msg)\n"
          ]
        },
        {
          "output_type": "stream",
          "name": "stdout",
          "text": [
            "Epoch 1, Loss: 1.0860037803649902\n",
            "Accuracy on privData: 50.35%\n",
            "Epoch 2, Loss: 1.2829656600952148\n",
            "Accuracy on privData: 55.29%\n",
            "Epoch 3, Loss: 1.3135161399841309\n",
            "Accuracy on privData: 58.99%\n",
            "Epoch 4, Loss: 1.1688902378082275\n",
            "Accuracy on privData: 60.95%\n",
            "Epoch 5, Loss: 1.2450504302978516\n",
            "Accuracy on privData: 65.13%\n",
            "Epoch 6, Loss: 0.8963084816932678\n",
            "Accuracy on privData: 67.74%\n",
            "Epoch 7, Loss: 0.9382441639900208\n",
            "Accuracy on privData: 68.42%\n",
            "Epoch 8, Loss: 0.8328582048416138\n",
            "Accuracy on privData: 71.77%\n",
            "Epoch 9, Loss: 0.7715686559677124\n",
            "Accuracy on privData: 72.85%\n",
            "Epoch 10, Loss: 0.6999406814575195\n",
            "Accuracy on privData: 71.86%\n",
            "Epoch 11, Loss: 0.9029583930969238\n",
            "Accuracy on privData: 77.82%\n",
            "Epoch 12, Loss: 0.6915234327316284\n",
            "Accuracy on privData: 80.44%\n",
            "Epoch 13, Loss: 0.7025669813156128\n",
            "Accuracy on privData: 81.92%\n",
            "Epoch 14, Loss: 0.44177502393722534\n",
            "Accuracy on privData: 83.79%\n",
            "Epoch 15, Loss: 0.5634000897407532\n",
            "Accuracy on privData: 86.33%\n"
          ]
        }
      ]
    },
    {
      "cell_type": "code",
      "source": [
        "# evaluateModel(memberData, model, False)"
      ],
      "metadata": {
        "colab": {
          "base_uri": "https://localhost:8080/"
        },
        "id": "wRGO3o7ebkwZ",
        "outputId": "87b8aabe-3487-4a5b-e38e-0a12cc573e05"
      },
      "execution_count": null,
      "outputs": [
        {
          "output_type": "stream",
          "name": "stdout",
          "text": [
            "Accuracy on privData: 74.67%\n"
          ]
        }
      ]
    },
    {
      "cell_type": "code",
      "source": [
        "#Save shadow model weights\n",
        "torch.save(member_shadow_model.state_dict(), \"shadow.pt\")"
      ],
      "metadata": {
        "id": "0CqAxTh-EB6b"
      },
      "execution_count": null,
      "outputs": []
    },
    {
      "cell_type": "code",
      "source": [
        "evaluateModel(nonMemberData, member_shadow_model, False)"
      ],
      "metadata": {
        "colab": {
          "base_uri": "https://localhost:8080/"
        },
        "id": "mxGYqxwzb2aj",
        "outputId": "ae702026-3366-41fc-d05c-68e4f7eb3887"
      },
      "execution_count": null,
      "outputs": [
        {
          "output_type": "stream",
          "name": "stdout",
          "text": [
            "Accuracy on privData: 86.55%\n"
          ]
        }
      ]
    },
    {
      "cell_type": "code",
      "source": [
        "def extract_logits(dataset, model,isPriv):\n",
        "\n",
        "    model.eval()\n",
        "\n",
        "    logits_list = []\n",
        "\n",
        "    device = torch.device(\"cuda\" if torch.cuda.is_available() else \"cpu\")\n",
        "    model.to(device)\n",
        "\n",
        "    if isPriv:\n",
        "      data_loader = torch.utils.data.DataLoader(dataset, batch_size=32, shuffle=False, collate_fn=custom_collate)\n",
        "\n",
        "      with torch.no_grad():\n",
        "          for _, images, labels in data_loader:\n",
        "\n",
        "              images = images.to(device)\n",
        "\n",
        "\n",
        "              logits = model(images)\n",
        "\n",
        "              logits_np = logits.cpu().numpy()\n",
        "\n",
        "              logits_list.append(logits_np)\n",
        "\n",
        "      logits_array = np.concatenate(logits_list)\n",
        "\n",
        "      return logits_array\n",
        "\n",
        "    else:\n",
        "\n",
        "      data_loader = torch.utils.data.DataLoader(dataset, batch_size=32, shuffle=False)\n",
        "\n",
        "      with torch.no_grad():\n",
        "          for _, images, labels,_ in data_loader:\n",
        "\n",
        "              images = images.to(device)\n",
        "\n",
        "              logits = model(images)\n",
        "\n",
        "              logits_np = logits.cpu().numpy()\n",
        "\n",
        "              logits_list.append(logits_np)\n",
        "\n",
        "      logits_array = np.concatenate(logits_list)\n",
        "\n",
        "      return logits_array"
      ],
      "metadata": {
        "id": "udT1uAG6deQ0"
      },
      "execution_count": null,
      "outputs": []
    },
    {
      "cell_type": "code",
      "source": [
        "pub_logits = extract_logits(pubData, member_shadow_model,False)"
      ],
      "metadata": {
        "id": "gZT9lYHTAx_4"
      },
      "execution_count": null,
      "outputs": []
    },
    {
      "cell_type": "code",
      "source": [
        "pub_logits"
      ],
      "metadata": {
        "colab": {
          "base_uri": "https://localhost:8080/"
        },
        "id": "qS2zWWNL1WR8",
        "outputId": "23c14140-b1ef-4214-f9b7-84e68907ab35"
      },
      "execution_count": null,
      "outputs": [
        {
          "output_type": "execute_result",
          "data": {
            "text/plain": [
              "array([[ -8.743673 , -16.612362 , -13.538902 , ..., -15.33601  ,\n",
              "        -11.160714 ,  -5.182898 ],\n",
              "       [-12.740398 , -13.098157 , -13.202584 , ...,  -8.839644 ,\n",
              "        -13.401994 , -12.513231 ],\n",
              "       [ -7.164668 ,  -6.143988 ,  -9.841757 , ...,   0.5349922,\n",
              "         -7.3307934,  -6.7077346],\n",
              "       ...,\n",
              "       [-17.640074 ,  -8.83491  , -13.856387 , ...,   5.777608 ,\n",
              "        -10.384461 , -12.551024 ],\n",
              "       [ -8.420685 , -13.057574 , -13.989132 , ..., -11.4189005,\n",
              "        -10.285997 ,  -8.116081 ],\n",
              "       [-11.189415 , -16.74889  , -21.732048 , ..., -15.1533985,\n",
              "        -12.245355 ,  -6.331552 ]], dtype=float32)"
            ]
          },
          "metadata": {},
          "execution_count": 20
        }
      ]
    },
    {
      "cell_type": "code",
      "source": [
        "from sklearn.linear_model import LogisticRegression\n",
        "from sklearn.model_selection import train_test_split\n",
        "from sklearn.metrics import accuracy_score\n",
        "import torch.nn.functional as F\n",
        "\n",
        "membership_array = np.array(pubData.membership)\n",
        "\n",
        "# probabilities = F.softmax(torch.tensor(pub_logits), dim=1).numpy()\n",
        "\n",
        "X_train, X_test, y_train, y_test = train_test_split(pub_logits, membership_array, test_size=0.2, random_state=42)\n",
        "\n",
        "log_reg_model = LogisticRegression(max_iter=1000)\n",
        "log_reg_model.fit(X_train, y_train)\n",
        "\n",
        "y_pred_proba = log_reg_model.predict_proba(X_test)[:, 1]  # Probability of class 1 (membership)\n",
        "\n",
        "y_pred = log_reg_model.predict(X_test)\n",
        "\n",
        "accuracy = accuracy_score(y_test, y_pred)\n",
        "\n",
        "print(f\"Accuracy: {accuracy:.4f}\")\n",
        "\n",
        "print(\"Predicted probabilities:\", y_pred_proba)"
      ],
      "metadata": {
        "colab": {
          "base_uri": "https://localhost:8080/"
        },
        "id": "-Igbm9VUhgR4",
        "outputId": "c5561921-f7b0-4b84-8b2e-743f09cc8627"
      },
      "execution_count": null,
      "outputs": [
        {
          "output_type": "stream",
          "name": "stdout",
          "text": [
            "Accuracy: 0.5025\n",
            "Predicted probabilities: [0.52567313 0.50813481 0.49605438 ... 0.49465893 0.4592844  0.50974473]\n"
          ]
        }
      ]
    },
    {
      "cell_type": "code",
      "source": [
        "from sklearn.metrics import roc_auc_score, roc_curve\n",
        "\n",
        "# Calculate AUC score\n",
        "auc_score = roc_auc_score(y_test, y_pred_proba)\n",
        "print(\"AUC Score:\", auc_score)\n",
        "\n",
        "# Calculate ROC curve\n",
        "fpr, tpr, thresholds = roc_curve(y_test, y_pred_proba)\n",
        "\n",
        "# Find TPR at FPR = 0.05\n",
        "target_fpr = 0.05\n",
        "closest_index = np.argmin(np.abs(fpr - target_fpr))\n",
        "tpr_at_target_fpr = tpr[closest_index]\n",
        "\n",
        "print(f\"TPR at FPR = {target_fpr}: {tpr_at_target_fpr}\")"
      ],
      "metadata": {
        "colab": {
          "base_uri": "https://localhost:8080/"
        },
        "id": "NxGor2cWjjzt",
        "outputId": "dbec25d2-6f98-4058-e05f-8437d43aff54"
      },
      "execution_count": null,
      "outputs": [
        {
          "output_type": "stream",
          "name": "stdout",
          "text": [
            "AUC Score: 0.5029711435696473\n",
            "TPR at FPR = 0.05: 0.0431077694235589\n"
          ]
        }
      ]
    },
    {
      "cell_type": "code",
      "source": [
        "from sklearn.neighbors import KNeighborsClassifier\n",
        "from sklearn.ensemble import RandomForestClassifier\n",
        "from sklearn.discriminant_analysis import LinearDiscriminantAnalysis\n",
        "from sklearn.metrics import accuracy_score, roc_auc_score, roc_curve\n",
        "from sklearn.model_selection import cross_val_score\n",
        "\n",
        "# Initialize and train KNN model\n",
        "knn_model = KNeighborsClassifier()\n",
        "knn_cv_accuracy = cross_val_score(knn_model, X_train, y_train, cv=5, scoring='accuracy').mean()\n",
        "print(\"KNN Cross-Validation Accuracy:\", knn_cv_accuracy)\n",
        "\n",
        "knn_model.fit(X_train, y_train)\n",
        "\n",
        "y_pred_proba_knn = knn_model.predict_proba(X_test)[:, 1]\n",
        "\n",
        "accuracy_knn = knn_model.score(X_test, y_test)\n",
        "print(\"KNN Accuracy:\", accuracy_knn)\n",
        "\n",
        "auc_score_knn = roc_auc_score(y_test, y_pred_proba_knn)\n",
        "print(\"KNN AUC Score:\", auc_score_knn)\n",
        "\n",
        "fpr_knn, tpr_knn, thresholds_knn = roc_curve(y_test, y_pred_proba_knn)\n",
        "\n",
        "target_fpr = 0.05\n",
        "closest_index_knn = np.argmin(np.abs(fpr_knn - target_fpr))\n",
        "tpr_at_target_fpr_knn = tpr_knn[closest_index_knn]\n",
        "print(f\"KNN TPR at FPR = {target_fpr}: {tpr_at_target_fpr_knn}\")\n",
        "\n",
        "# Initialize and train Random Forest model\n",
        "rf_model = RandomForestClassifier()\n",
        "rf_model.fit(X_train, y_train)\n",
        "\n",
        "y_pred_proba_rf = rf_model.predict_proba(X_test)[:, 1]\n",
        "\n",
        "accuracy_rf = rf_model.score(X_test, y_test)\n",
        "print(\"Random Forest Accuracy:\", accuracy_rf)\n",
        "\n",
        "auc_score_rf = roc_auc_score(y_test, y_pred_proba_rf)\n",
        "print(\"Random Forest AUC Score:\", auc_score_rf)\n",
        "\n",
        "fpr_rf, tpr_rf, thresholds_rf = roc_curve(y_test, y_pred_proba_rf)\n",
        "\n",
        "closest_index_rf = np.argmin(np.abs(fpr_rf - target_fpr))\n",
        "tpr_at_target_fpr_rf = tpr_rf[closest_index_rf]\n",
        "print(f\"Random Forest TPR at FPR = {target_fpr}: {tpr_at_target_fpr_rf}\")\n",
        "\n",
        "# Initialize and train LDA model\n",
        "lda_model = LinearDiscriminantAnalysis()\n",
        "lda_model.fit(X_train, y_train)\n",
        "\n",
        "y_pred_proba_lda = lda_model.predict_proba(X_test)[:, 1]\n",
        "\n",
        "accuracy_lda = lda_model.score(X_test, y_test)\n",
        "print(\"LDA Accuracy:\", accuracy_lda)\n",
        "\n",
        "auc_score_lda = roc_auc_score(y_test, y_pred_proba_lda)\n",
        "print(\"LDA AUC Score:\", auc_score_lda)\n",
        "\n",
        "fpr_lda, tpr_lda, thresholds_lda = roc_curve(y_test, y_pred_proba_lda)\n",
        "\n",
        "# Find TPR at FPR = 0.05\n",
        "closest_index_lda = np.argmin(np.abs(fpr_lda - target_fpr))\n",
        "tpr_at_target_fpr_lda = tpr_lda[closest_index_lda]\n",
        "print(f\"LDA TPR at FPR = {target_fpr}: {tpr_at_target_fpr_lda}\")\n"
      ],
      "metadata": {
        "colab": {
          "base_uri": "https://localhost:8080/"
        },
        "id": "_ocdIAjCHuLT",
        "outputId": "76293401-d4d2-4633-e15b-14f11037a98f"
      },
      "execution_count": null,
      "outputs": [
        {
          "output_type": "stream",
          "name": "stdout",
          "text": [
            "KNN Cross-Validation Accuracy: 0.5011249999999999\n",
            "KNN Accuracy: 0.51175\n",
            "KNN AUC Score: 0.5107880674254215\n",
            "KNN TPR at FPR = 0.05: 0.033583959899749376\n",
            "Random Forest Accuracy: 0.495\n",
            "Random Forest AUC Score: 0.5084529278307989\n",
            "Random Forest TPR at FPR = 0.05: 0.06666666666666667\n",
            "LDA Accuracy: 0.50175\n",
            "LDA AUC Score: 0.503096519353246\n",
            "LDA TPR at FPR = 0.05: 0.0431077694235589\n"
          ]
        }
      ]
    },
    {
      "cell_type": "code",
      "source": [
        "priv_logits = extract_logits(privData, member_shadow_model,True)"
      ],
      "metadata": {
        "id": "f1QkyVpxk-tt"
      },
      "execution_count": null,
      "outputs": []
    },
    {
      "cell_type": "code",
      "source": [
        "priv_logits"
      ],
      "metadata": {
        "colab": {
          "base_uri": "https://localhost:8080/"
        },
        "id": "qEuaVgUiBPYq",
        "outputId": "d15281b3-cfe5-445b-8eef-8cc6f13ced9b"
      },
      "execution_count": null,
      "outputs": [
        {
          "output_type": "execute_result",
          "data": {
            "text/plain": [
              "array([[-15.405442 , -15.395304 ,  -9.934013 , ...,  -7.875381 ,\n",
              "        -17.036167 , -15.766642 ],\n",
              "       [-19.847395 , -19.078176 , -12.235316 , ..., -10.453823 ,\n",
              "        -21.728031 , -20.33313  ],\n",
              "       [-10.183053 , -12.001919 , -14.970554 , ..., -10.643057 ,\n",
              "        -10.364401 ,  -7.9737897],\n",
              "       ...,\n",
              "       [-10.019365 ,  -5.3200507,  -7.86508  , ...,   2.5151296,\n",
              "         -6.7455444,  -8.708804 ],\n",
              "       [-10.409491 ,  -8.14324  , -33.698948 , ...,  -4.649087 ,\n",
              "        -12.750782 ,  -8.293964 ],\n",
              "       [ -6.953123 ,  -4.634598 ,  -8.07011  , ...,   1.3038908,\n",
              "         -6.215314 ,  -6.76795  ]], dtype=float32)"
            ]
          },
          "metadata": {},
          "execution_count": 25
        }
      ]
    },
    {
      "cell_type": "code",
      "source": [
        "# Predict membership probabilities\n",
        "#Extracting for random forest\n",
        "priv_scores = rf_model.predict_proba(priv_logits)[:, 1]"
      ],
      "metadata": {
        "id": "aqNkX7HZ6lgh"
      },
      "execution_count": null,
      "outputs": []
    },
    {
      "cell_type": "code",
      "source": [
        "priv_scores"
      ],
      "metadata": {
        "colab": {
          "base_uri": "https://localhost:8080/"
        },
        "id": "D0lYAhKgBxzt",
        "outputId": "89c3ddf5-d16a-437f-b639-f046c82fe731"
      },
      "execution_count": null,
      "outputs": [
        {
          "output_type": "execute_result",
          "data": {
            "text/plain": [
              "array([0.47, 0.55, 0.35, ..., 0.24, 0.7 , 0.79])"
            ]
          },
          "metadata": {},
          "execution_count": 27
        }
      ]
    },
    {
      "cell_type": "code",
      "source": [
        "\n",
        "#### EXAMPLE SUBMISSION\n",
        "\n",
        "df = pd.DataFrame(\n",
        "    {\n",
        "        \"ids\": privData.ids,\n",
        "        \"score\": priv_scores,\n",
        "    }\n",
        ")\n",
        "df.to_csv(\"check.csv\", index=None)"
      ],
      "metadata": {
        "id": "x9T3lOp6OaaE"
      },
      "execution_count": null,
      "outputs": []
    },
    {
      "cell_type": "code",
      "source": [
        "import requests\n",
        "\n",
        "response = requests.post(\"http://35.184.239.3:9090/mia\", files={\"file\": open(\"check.csv\", \"rb\")}, headers={\"token\": \"76282151\"})\n",
        "print(response.json())"
      ],
      "metadata": {
        "id": "3rf6kqExJQ35",
        "colab": {
          "base_uri": "https://localhost:8080/"
        },
        "outputId": "e2fe87e0-bf76-4e09-b98f-eb6dc9899ed3"
      },
      "execution_count": null,
      "outputs": [
        {
          "output_type": "stream",
          "name": "stdout",
          "text": [
            "{'TPR@FPR=0.05': 0.058, 'AUC': 0.5029855}\n"
          ]
        }
      ]
    }
  ]
}